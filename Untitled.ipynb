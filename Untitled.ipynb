{
 "cells": [
  {
   "cell_type": "code",
   "execution_count": 1,
   "id": "4f27d90d",
   "metadata": {},
   "outputs": [
    {
     "name": "stdout",
     "output_type": "stream",
     "text": [
      "Requirement already satisfied: kaleido in /Users/samuellederman/miniconda3/lib/python3.10/site-packages (0.2.1)\n",
      "Collecting typing-extensions==3.6.6\n",
      "  Using cached typing_extensions-3.6.6-py3-none-any.whl (16 kB)\n",
      "Installing collected packages: typing-extensions\n",
      "  Attempting uninstall: typing-extensions\n",
      "    Found existing installation: typing_extensions 4.8.0\n",
      "    Uninstalling typing_extensions-4.8.0:\n",
      "      Successfully uninstalled typing_extensions-4.8.0\n",
      "\u001b[31mERROR: pip's dependency resolver does not currently take into account all the packages that are installed. This behaviour is the source of the following dependency conflicts.\n",
      "uvicorn 0.24.0.post1 requires typing-extensions>=4.0; python_version < \"3.11\", but you have typing-extensions 3.6.6 which is incompatible.\n",
      "typer 0.9.0 requires typing-extensions>=3.7.4.3, but you have typing-extensions 3.6.6 which is incompatible.\n",
      "sqlalchemy 2.0.20 requires typing-extensions>=4.2.0, but you have typing-extensions 3.6.6 which is incompatible.\n",
      "pydantic 2.4.2 requires typing-extensions>=4.6.1, but you have typing-extensions 3.6.6 which is incompatible.\n",
      "pydantic-core 2.10.1 requires typing-extensions!=4.7.0,>=4.6.0, but you have typing-extensions 3.6.6 which is incompatible.\n",
      "huggingface-hub 0.17.3 requires typing-extensions>=3.7.4.3, but you have typing-extensions 3.6.6 which is incompatible.\n",
      "gradio 4.3.0 requires typing-extensions~=4.0, but you have typing-extensions 3.6.6 which is incompatible.\n",
      "gradio-client 0.7.0 requires typing-extensions~=4.0, but you have typing-extensions 3.6.6 which is incompatible.\n",
      "fastapi 0.104.1 requires typing-extensions>=4.8.0, but you have typing-extensions 3.6.6 which is incompatible.\n",
      "cloudpathlib 0.15.1 requires typing_extensions>4; python_version < \"3.11\", but you have typing-extensions 3.6.6 which is incompatible.\n",
      "altair 5.1.2 requires typing-extensions>=4.0.1; python_version < \"3.11\", but you have typing-extensions 3.6.6 which is incompatible.\n",
      "alembic 1.12.0 requires typing-extensions>=4, but you have typing-extensions 3.6.6 which is incompatible.\u001b[0m\u001b[31m\n",
      "\u001b[0mSuccessfully installed typing-extensions-3.6.6\n",
      "Requirement already satisfied: gradio in /Users/samuellederman/miniconda3/lib/python3.10/site-packages (4.3.0)\n",
      "Requirement already satisfied: matplotlib~=3.0 in /Users/samuellederman/miniconda3/lib/python3.10/site-packages (from gradio) (3.7.1)\n",
      "Requirement already satisfied: requests~=2.0 in /Users/samuellederman/miniconda3/lib/python3.10/site-packages (from gradio) (2.28.1)\n",
      "Collecting typing-extensions~=4.0\n",
      "  Using cached typing_extensions-4.8.0-py3-none-any.whl (31 kB)\n",
      "Requirement already satisfied: huggingface-hub>=0.14.0 in /Users/samuellederman/miniconda3/lib/python3.10/site-packages (from gradio) (0.17.3)\n",
      "Requirement already satisfied: semantic-version~=2.0 in /Users/samuellederman/miniconda3/lib/python3.10/site-packages (from gradio) (2.10.0)\n",
      "Requirement already satisfied: httpx in /Users/samuellederman/miniconda3/lib/python3.10/site-packages (from gradio) (0.25.1)\n",
      "Requirement already satisfied: pillow<11.0,>=8.0 in /Users/samuellederman/miniconda3/lib/python3.10/site-packages (from gradio) (9.4.0)\n",
      "Requirement already satisfied: packaging in /Users/samuellederman/miniconda3/lib/python3.10/site-packages (from gradio) (23.0)\n",
      "Requirement already satisfied: altair<6.0,>=4.2.0 in /Users/samuellederman/miniconda3/lib/python3.10/site-packages (from gradio) (5.1.2)\n",
      "Requirement already satisfied: pyyaml<7.0,>=5.0 in /Users/samuellederman/miniconda3/lib/python3.10/site-packages (from gradio) (6.0)\n",
      "Requirement already satisfied: gradio-client==0.7.0 in /Users/samuellederman/miniconda3/lib/python3.10/site-packages (from gradio) (0.7.0)\n",
      "Requirement already satisfied: orjson~=3.0 in /Users/samuellederman/miniconda3/lib/python3.10/site-packages (from gradio) (3.9.10)\n",
      "Requirement already satisfied: pandas<3.0,>=1.0 in /Users/samuellederman/miniconda3/lib/python3.10/site-packages (from gradio) (1.5.3)\n",
      "Requirement already satisfied: python-multipart in /Users/samuellederman/miniconda3/lib/python3.10/site-packages (from gradio) (0.0.6)\n",
      "Requirement already satisfied: typer[all]<1.0,>=0.9 in /Users/samuellederman/miniconda3/lib/python3.10/site-packages (from gradio) (0.9.0)\n",
      "Requirement already satisfied: aiofiles<24.0,>=22.0 in /Users/samuellederman/miniconda3/lib/python3.10/site-packages (from gradio) (22.1.0)\n",
      "Requirement already satisfied: pydantic>=2.0 in /Users/samuellederman/miniconda3/lib/python3.10/site-packages (from gradio) (2.4.2)\n",
      "Requirement already satisfied: numpy~=1.0 in /Users/samuellederman/miniconda3/lib/python3.10/site-packages (from gradio) (1.24.0)\n",
      "Requirement already satisfied: uvicorn>=0.14.0 in /Users/samuellederman/miniconda3/lib/python3.10/site-packages (from gradio) (0.24.0.post1)\n",
      "Requirement already satisfied: pydub in /Users/samuellederman/miniconda3/lib/python3.10/site-packages (from gradio) (0.25.1)\n",
      "Requirement already satisfied: jinja2<4.0 in /Users/samuellederman/miniconda3/lib/python3.10/site-packages (from gradio) (3.1.2)\n",
      "Requirement already satisfied: tomlkit==0.12.0 in /Users/samuellederman/miniconda3/lib/python3.10/site-packages (from gradio) (0.12.0)\n",
      "Requirement already satisfied: fastapi in /Users/samuellederman/miniconda3/lib/python3.10/site-packages (from gradio) (0.104.1)\n",
      "Requirement already satisfied: markupsafe~=2.0 in /Users/samuellederman/miniconda3/lib/python3.10/site-packages (from gradio) (2.1.1)\n",
      "Requirement already satisfied: importlib-resources<7.0,>=1.3 in /Users/samuellederman/miniconda3/lib/python3.10/site-packages (from gradio) (6.1.1)\n",
      "Requirement already satisfied: ffmpy in /Users/samuellederman/miniconda3/lib/python3.10/site-packages (from gradio) (0.3.1)\n",
      "Requirement already satisfied: websockets<12.0,>=10.0 in /Users/samuellederman/miniconda3/lib/python3.10/site-packages (from gradio-client==0.7.0->gradio) (10.4)\n",
      "Requirement already satisfied: fsspec in /Users/samuellederman/miniconda3/lib/python3.10/site-packages (from gradio-client==0.7.0->gradio) (2023.6.0)\n",
      "Requirement already satisfied: toolz in /Users/samuellederman/miniconda3/lib/python3.10/site-packages (from altair<6.0,>=4.2.0->gradio) (0.12.0)\n",
      "Requirement already satisfied: jsonschema>=3.0 in /Users/samuellederman/miniconda3/lib/python3.10/site-packages (from altair<6.0,>=4.2.0->gradio) (4.17.3)\n",
      "Requirement already satisfied: tqdm>=4.42.1 in /Users/samuellederman/miniconda3/lib/python3.10/site-packages (from huggingface-hub>=0.14.0->gradio) (4.65.0)\n",
      "Requirement already satisfied: filelock in /Users/samuellederman/miniconda3/lib/python3.10/site-packages (from huggingface-hub>=0.14.0->gradio) (3.12.4)\n",
      "Requirement already satisfied: python-dateutil>=2.7 in /Users/samuellederman/miniconda3/lib/python3.10/site-packages (from matplotlib~=3.0->gradio) (2.8.2)\n",
      "Requirement already satisfied: pyparsing>=2.3.1 in /Users/samuellederman/miniconda3/lib/python3.10/site-packages (from matplotlib~=3.0->gradio) (3.0.9)\n",
      "Requirement already satisfied: cycler>=0.10 in /Users/samuellederman/miniconda3/lib/python3.10/site-packages (from matplotlib~=3.0->gradio) (0.11.0)\n",
      "Requirement already satisfied: fonttools>=4.22.0 in /Users/samuellederman/miniconda3/lib/python3.10/site-packages (from matplotlib~=3.0->gradio) (4.25.0)\n",
      "Requirement already satisfied: contourpy>=1.0.1 in /Users/samuellederman/miniconda3/lib/python3.10/site-packages (from matplotlib~=3.0->gradio) (1.0.5)\n",
      "Requirement already satisfied: kiwisolver>=1.0.1 in /Users/samuellederman/miniconda3/lib/python3.10/site-packages (from matplotlib~=3.0->gradio) (1.4.4)\n",
      "Requirement already satisfied: pytz>=2020.1 in /Users/samuellederman/miniconda3/lib/python3.10/site-packages (from pandas<3.0,>=1.0->gradio) (2022.7)\n",
      "Requirement already satisfied: pydantic-core==2.10.1 in /Users/samuellederman/miniconda3/lib/python3.10/site-packages (from pydantic>=2.0->gradio) (2.10.1)\n",
      "Requirement already satisfied: annotated-types>=0.4.0 in /Users/samuellederman/miniconda3/lib/python3.10/site-packages (from pydantic>=2.0->gradio) (0.6.0)\n",
      "Requirement already satisfied: certifi>=2017.4.17 in /Users/samuellederman/miniconda3/lib/python3.10/site-packages (from requests~=2.0->gradio) (2023.5.7)\n",
      "Requirement already satisfied: idna<4,>=2.5 in /Users/samuellederman/miniconda3/lib/python3.10/site-packages (from requests~=2.0->gradio) (3.4)\n",
      "Requirement already satisfied: urllib3<1.27,>=1.21.1 in /Users/samuellederman/miniconda3/lib/python3.10/site-packages (from requests~=2.0->gradio) (1.26.15)\n",
      "Requirement already satisfied: charset-normalizer<3,>=2 in /Users/samuellederman/miniconda3/lib/python3.10/site-packages (from requests~=2.0->gradio) (2.0.4)\n",
      "Requirement already satisfied: click<9.0.0,>=7.1.1 in /Users/samuellederman/miniconda3/lib/python3.10/site-packages (from typer[all]<1.0,>=0.9->gradio) (8.1.4)\n",
      "Requirement already satisfied: colorama<0.5.0,>=0.4.3 in /Users/samuellederman/miniconda3/lib/python3.10/site-packages (from typer[all]<1.0,>=0.9->gradio) (0.4.6)\n",
      "Requirement already satisfied: rich<14.0.0,>=10.11.0 in /Users/samuellederman/miniconda3/lib/python3.10/site-packages (from typer[all]<1.0,>=0.9->gradio) (13.6.0)\n",
      "Requirement already satisfied: shellingham<2.0.0,>=1.3.0 in /Users/samuellederman/miniconda3/lib/python3.10/site-packages (from typer[all]<1.0,>=0.9->gradio) (1.5.4)\n",
      "Requirement already satisfied: h11>=0.8 in /Users/samuellederman/miniconda3/lib/python3.10/site-packages (from uvicorn>=0.14.0->gradio) (0.14.0)\n"
     ]
    },
    {
     "name": "stdout",
     "output_type": "stream",
     "text": [
      "Requirement already satisfied: starlette<0.28.0,>=0.27.0 in /Users/samuellederman/miniconda3/lib/python3.10/site-packages (from fastapi->gradio) (0.27.0)\n",
      "Requirement already satisfied: anyio<4.0.0,>=3.7.1 in /Users/samuellederman/miniconda3/lib/python3.10/site-packages (from fastapi->gradio) (3.7.1)\n",
      "Requirement already satisfied: httpcore in /Users/samuellederman/miniconda3/lib/python3.10/site-packages (from httpx->gradio) (1.0.2)\n",
      "Requirement already satisfied: sniffio in /Users/samuellederman/miniconda3/lib/python3.10/site-packages (from httpx->gradio) (1.2.0)\n",
      "Requirement already satisfied: exceptiongroup in /Users/samuellederman/miniconda3/lib/python3.10/site-packages (from anyio<4.0.0,>=3.7.1->fastapi->gradio) (1.1.2)\n",
      "Requirement already satisfied: pyrsistent!=0.17.0,!=0.17.1,!=0.17.2,>=0.14.0 in /Users/samuellederman/miniconda3/lib/python3.10/site-packages (from jsonschema>=3.0->altair<6.0,>=4.2.0->gradio) (0.18.0)\n",
      "Requirement already satisfied: attrs>=17.4.0 in /Users/samuellederman/miniconda3/lib/python3.10/site-packages (from jsonschema>=3.0->altair<6.0,>=4.2.0->gradio) (22.1.0)\n",
      "Requirement already satisfied: six>=1.5 in /Users/samuellederman/miniconda3/lib/python3.10/site-packages (from python-dateutil>=2.7->matplotlib~=3.0->gradio) (1.16.0)\n",
      "Requirement already satisfied: pygments<3.0.0,>=2.13.0 in /Users/samuellederman/miniconda3/lib/python3.10/site-packages (from rich<14.0.0,>=10.11.0->typer[all]<1.0,>=0.9->gradio) (2.15.1)\n",
      "Requirement already satisfied: markdown-it-py>=2.2.0 in /Users/samuellederman/miniconda3/lib/python3.10/site-packages (from rich<14.0.0,>=10.11.0->typer[all]<1.0,>=0.9->gradio) (3.0.0)\n",
      "Requirement already satisfied: mdurl~=0.1 in /Users/samuellederman/miniconda3/lib/python3.10/site-packages (from markdown-it-py>=2.2.0->rich<14.0.0,>=10.11.0->typer[all]<1.0,>=0.9->gradio) (0.1.2)\n",
      "Installing collected packages: typing-extensions\n",
      "  Attempting uninstall: typing-extensions\n",
      "    Found existing installation: typing-extensions 3.6.6\n",
      "    Uninstalling typing-extensions-3.6.6:\n",
      "      Successfully uninstalled typing-extensions-3.6.6\n",
      "Successfully installed typing-extensions-4.8.0\n"
     ]
    }
   ],
   "source": [
    "!pip install kaleido\n",
    "!pip install typing-extensions==3.6.6\n",
    "!pip install gradio --upgrade"
   ]
  },
  {
   "cell_type": "code",
   "execution_count": 2,
   "id": "f9741c92",
   "metadata": {},
   "outputs": [],
   "source": [
    "import gradio as gr\n",
    "import tensorflow as tf\n",
    "from PIL import Image\n",
    "import numpy as np\n",
    "from tensorflow.keras.preprocessing import image\n",
    "from gradio import Interface, components as gc"
   ]
  },
  {
   "cell_type": "code",
   "execution_count": 3,
   "id": "b4b40d0c",
   "metadata": {},
   "outputs": [],
   "source": [
    "from tensorflow.keras.models import load_model\n",
    "\n",
    "# Replace 'path/to/your/model.h5' with the actual file path\n",
    "model = load_model('my_model.h5')"
   ]
  },
  {
   "cell_type": "code",
   "execution_count": 4,
   "id": "e427003a",
   "metadata": {},
   "outputs": [],
   "source": [
    "class_names = ['Gato', 'Perro']"
   ]
  },
  {
   "cell_type": "code",
   "execution_count": 5,
   "id": "625102c2",
   "metadata": {},
   "outputs": [],
   "source": [
    "# Define la función de clasificación de imagen\n",
    "def classify_image(image: Image.Image):\n",
    "    if image is None:\n",
    "        return \"\"  # Devuelve una cadena vacía si no se proporciona una imagen\n",
    "\n",
    "    # Preprocesar la imagen para la clasificación\n",
    "    image = image.convert('RGB')\n",
    "    image = image.resize((224, 224))\n",
    "    image_array = np.array(image)\n",
    "    image_array = np.expand_dims(image_array, axis=0)\n",
    "\n",
    "    # Realizar la predicción\n",
    "    prediction = model.predict(image_array)\n",
    "    if prediction >= 0.5:\n",
    "        predicted_label = 'Perro'\n",
    "    else:\n",
    "        predicted_label = 'Gato'\n",
    "\n",
    "     # Añadir íconos a la etiqueta predicha\n",
    "    if \"Gato\" in predicted_label:\n",
    "        predicted_label = \"🐱\" + predicted_label\n",
    "    elif \"Perro\" in predicted_label:\n",
    "        predicted_label = \"🐶 \" + predicted_label\n",
    "\n",
    "\n",
    "    return predicted_label"
   ]
  },
  {
   "cell_type": "code",
   "execution_count": 6,
   "id": "689e9d60",
   "metadata": {},
   "outputs": [],
   "source": [
    "examples = [\n",
    "    [\"cat.0.jpg\"],\n",
    "    [\"cat.1.jpg\"], \n",
    "    [\"cat.10.jpg\"],\n",
    "    [\"dog.0.jpg\"],\n",
    "    [\"dog.1.jpg\"],\n",
    "    [\"dog.10.jpg\"]\n",
    "]"
   ]
  },
  {
   "cell_type": "code",
   "execution_count": 7,
   "id": "6a3b829d",
   "metadata": {},
   "outputs": [],
   "source": [
    "# Importar el tema Monochrome\n",
    "theme = gr.themes.Monochrome()"
   ]
  },
  {
   "cell_type": "code",
   "execution_count": 8,
   "id": "aca8522d",
   "metadata": {},
   "outputs": [],
   "source": [
    "import base64\n",
    "\n",
    "with open(\"Logo-footer.png\", \"rb\") as image_file:\n",
    "    encoded_string = base64.b64encode(image_file.read()).decode('utf-8')"
   ]
  },
  {
   "cell_type": "code",
   "execution_count": 9,
   "id": "4858ba37",
   "metadata": {},
   "outputs": [
    {
     "name": "stdout",
     "output_type": "stream",
     "text": [
      "Running on local URL:  http://127.0.0.1:7860\n",
      "Running on public URL: https://0404efdfd0b024a20b.gradio.live\n",
      "\n",
      "This share link expires in 72 hours. For free permanent hosting and GPU upgrades, run `gradio deploy` from Terminal to deploy to Spaces (https://huggingface.co/spaces)\n"
     ]
    },
    {
     "data": {
      "text/html": [
       "<div><iframe src=\"https://0404efdfd0b024a20b.gradio.live\" width=\"100%\" height=\"500\" allow=\"autoplay; camera; microphone; clipboard-read; clipboard-write;\" frameborder=\"0\" allowfullscreen></iframe></div>"
      ],
      "text/plain": [
       "<IPython.core.display.HTML object>"
      ]
     },
     "metadata": {},
     "output_type": "display_data"
    },
    {
     "data": {
      "text/plain": []
     },
     "execution_count": 9,
     "metadata": {},
     "output_type": "execute_result"
    },
    {
     "name": "stdout",
     "output_type": "stream",
     "text": [
      "1/1 [==============================] - 0s 131ms/step\n",
      "1/1 [==============================] - 0s 83ms/step\n",
      "1/1 [==============================] - 0s 89ms/step\n"
     ]
    }
   ],
   "source": [
    "# Crear la interfaz de Gradio\n",
    "iface = gr.Interface(\n",
    "    classify_image,\n",
    "    gc.Image(type=\"pil\", label=\"Suba una imagen o capture una con su cámara del teléfono\"),\n",
    "    gc.Textbox(label=\"Clasificación de animales\"),\n",
    "    live=False,\n",
    "    title=\"<b>Modelo de clasificación de animales mediante técnicas de visión por computador</b>\",\n",
    "    description=f\"<div align='center'><img src='data:image/png;base64,{encoded_string}' \\\n",
    "    alt='Universidad Metropolitana' width='400'></div><hr><div align='center'><b>Elaborado\\\n",
    "    por: Carolina Bockmeulen y Samuel Lederman</b></div><p style='color: #555; font-size: 16px;\\\n",
    "    text-align: center; margin-top: 10px;'>Utilice los siguientes ejemplos o suba sus propias imágenes\\\n",
    "    para llevar a cabo la clasificación de mascotas. Asegúrese de cargar exclusivamente imágenes de las\\\n",
    "    siguientes tipos de animales: perros y gatos.</p>\",\n",
    "    examples=examples,  # Agrega los ejemplos con imágenes\n",
    "    theme=theme  # Aplica el tema Monochrome\n",
    ")\n",
    "\n",
    "iface.launch(share=True)"
   ]
  }
 ],
 "metadata": {
  "kernelspec": {
   "display_name": "Python 3 (ipykernel)",
   "language": "python",
   "name": "python3"
  },
  "language_info": {
   "codemirror_mode": {
    "name": "ipython",
    "version": 3
   },
   "file_extension": ".py",
   "mimetype": "text/x-python",
   "name": "python",
   "nbconvert_exporter": "python",
   "pygments_lexer": "ipython3",
   "version": "3.10.10"
  }
 },
 "nbformat": 4,
 "nbformat_minor": 5
}
